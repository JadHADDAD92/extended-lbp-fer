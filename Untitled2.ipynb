{
 "cells": [
  {
   "cell_type": "code",
   "execution_count": null,
   "metadata": {},
   "outputs": [],
   "source": [
    "%matplotlib inline"
   ]
  },
  {
   "cell_type": "code",
   "execution_count": 1,
   "metadata": {},
   "outputs": [],
   "source": [
    "import numpy as np\n",
    "import cv2\n",
    "import pandas as pd\n",
    "from numba import jit\n",
    "from matplotlib import pyplot as plt\n",
    "from python.storage import load\n",
    "from pathlib import Path\n",
    "from glob import glob"
   ]
  },
  {
   "cell_type": "code",
   "execution_count": null,
   "metadata": {},
   "outputs": [],
   "source": [
    "def cropFace(image):\n",
    "    faceClassifier = cv2.CascadeClassifier('./haarcascade/haarcascade_frontalface_alt.xml')\n",
    "    faces = faceClassifier.detectMultiScale(image)\n",
    "    #get first face coordinates\n",
    "    xFace, yFace, wFace, hFace = faces[0]\n",
    "    croppedFace = image[yFace:yFace+hFace, xFace:xFace+wFace]\n",
    "    return croppedFace"
   ]
  },
  {
   "cell_type": "code",
   "execution_count": null,
   "metadata": {},
   "outputs": [],
   "source": [
    "@jit(nopython=True)\n",
    "def generatePattern(matrix):\n",
    "    return matrix[0, 0] + (matrix[0, 1]<<1) + (matrix[0, 2]<<2) + (matrix[1, 2]<<3) + \\\n",
    "           (matrix[2, 2]<<4) + (matrix[2, 1]<<5) + (matrix[2, 0]<<6) + (matrix[1, 0]<<7)"
   ]
  },
  {
   "cell_type": "code",
   "execution_count": null,
   "metadata": {},
   "outputs": [],
   "source": [
    "def LBPH(image, gridX, gridY):\n",
    "    \"\"\" generate LBP histogram\n",
    "    \"\"\"\n",
    "    cellWidth = image.shape[1] // gridX\n",
    "    cellHeight = image.shape[0] // gridY\n",
    "    print(\"width = %d \\t height = %d\"%(image.shape[1], image.shape[0]))\n",
    "    print(\"cellwidth = %d \\t cellHeight = %d\"%(cellWidth, cellHeight))\n",
    "    feature = np.array(())\n",
    "    for x in range(0, gridX*cellWidth, cellWidth):\n",
    "        for y in range(0, gridY*cellHeight, cellHeight):\n",
    "            # extract cell\n",
    "            subImg = image[y:y+cellHeight, x:x+cellWidth]\n",
    "            hist, _binEdge = np.histogram(subImg.ravel(), bins=256, range=[0, 255], density=True)\n",
    "            # concatenate histograms \n",
    "            feature = np.concatenate((feature, hist))\n",
    "        \n",
    "    return feature\n",
    "sub = np.random.randint(255, size=(250, 150))\n",
    "LBPH(sub, 8, 8)"
   ]
  },
  {
   "cell_type": "code",
   "execution_count": 19,
   "metadata": {},
   "outputs": [],
   "source": [
    "foo = load('./data/dLBP0_JAFFE')"
   ]
  },
  {
   "cell_type": "code",
   "execution_count": null,
   "metadata": {},
   "outputs": [],
   "source": [
    "@jit(nopython=True)\n",
    "def TLPPixel (centre, pixel, threshold):\n",
    "    # -1\n",
    "    if(pixel + threshold < centre):\n",
    "        return np.array([0, 1], dtype=np.uint8)\n",
    "    # 1\n",
    "    elif(pixel > threshold + centre):\n",
    "        return np.array([1, 0], dtype=np.uint8)\n",
    "    # 0\n",
    "    else:\n",
    "        return np.array([0, 0], dtype=np.uint8)\n",
    "\n",
    "@jit(nopython=True)\n",
    "def TLPBloc(arr, t):\n",
    "    centrePixel = arr[1, 1]\n",
    "    tlpup = np.empty_like(arr)\n",
    "    tlplo = np.empty_like(arr)\n",
    "    tlpup[0, 0], tlplo[0, 0] = TLPPixel(centrePixel, arr[0, 0], threshold=t)\n",
    "    tlpup[0, 1], tlplo[0, 1] = TLPPixel(centrePixel, arr[0, 1], threshold=t)\n",
    "    tlpup[0, 2], tlplo[0, 2] = TLPPixel(centrePixel, arr[0, 2], threshold=t)\n",
    "    tlpup[1, 2], tlplo[1, 2] = TLPPixel(centrePixel, arr[1, 2], threshold=t)\n",
    "    tlpup[2, 2], tlplo[2, 2] = TLPPixel(centrePixel, arr[2, 2], threshold=t)\n",
    "    tlpup[2, 1], tlplo[2, 1] = TLPPixel(centrePixel, arr[2, 1], threshold=t)\n",
    "    tlpup[2, 0], tlplo[2, 0] = TLPPixel(centrePixel, arr[2, 0], threshold=t)\n",
    "    tlpup[1, 0], tlplo[1, 0] = TLPPixel(centrePixel, arr[1, 0], threshold=t)\n",
    "    return np.array([generatePattern(tlpup), generatePattern(tlplo)], np.uint8)\n",
    "\n",
    "@jit(nopython=True)\n",
    "def TLP(image, threshold):\n",
    "    upper = np.empty_like(image)\n",
    "    lower = np.empty_like(image)\n",
    "    height = image.shape[0]\n",
    "    width = image.shape[1]\n",
    "    for w in range(1, width - 1):\n",
    "        for h in range(1, height - 1):\n",
    "            subImg = image[h-1:h+2, w-1:w+2]\n",
    "            upper[h, w], lower[h, w] = TLPBloc(subImg, threshold)\n",
    "    return [upper, lower]"
   ]
  },
  {
   "cell_type": "code",
   "execution_count": null,
   "metadata": {},
   "outputs": [],
   "source": [
    "@jit(nopython=True)\n",
    "def dLBPPixel(image, angle):\n",
    "    if angle==0:\n",
    "        elements = np.array([image[4, 8], image[4, 7], image[4, 6], image[4, 5], image[4, 4], image[4, 3], image[4, 2], image[4, 1], image[4, 0]], dtype=np.uint8)\n",
    "    elif angle==45:\n",
    "        elements = np.array([image[8, 0], image[7, 1], image[6, 2], image[5, 3], image[4, 4], image[3, 5], image[2, 6], image[1, 7], image[0, 8]], dtype=np.uint8)\n",
    "    elif angle==90:\n",
    "        elements = np.array([image[8, 4], image[7, 4], image[6, 4], image[5, 4], image[4, 4], image[3, 4], image[2, 4], image[1, 4], image[0, 4]], dtype=np.uint8)\n",
    "    elif angle==135:\n",
    "        elements = np.array([image[8, 8], image[7, 7], image[6, 6], image[5, 5], image[4, 4], image[3, 3], image[2, 2], image[1, 1], image[0, 0]], dtype=np.uint8)\n",
    "    return ((elements[4] > elements[8])<<0) + \\\n",
    "           ((elements[4] > elements[7])<<1) + \\\n",
    "           ((elements[4] > elements[6])<<2) + \\\n",
    "           ((elements[4] > elements[5])<<3) + \\\n",
    "           ((elements[4] > elements[3])<<4) + \\\n",
    "           ((elements[4] > elements[2])<<5) + \\\n",
    "           ((elements[4] > elements[1])<<6) + \\\n",
    "           ((elements[4] > elements[0])<<7)"
   ]
  },
  {
   "cell_type": "code",
   "execution_count": null,
   "metadata": {},
   "outputs": [],
   "source": [
    "@jit(nopython=True)\n",
    "def dLBP(image, angle=0):\n",
    "    height = image.shape[0]\n",
    "    width = image.shape[1]\n",
    "    result = np.empty((height-8, width-8), dtype=np.uint8)\n",
    "    for w in range(4, width - 4):\n",
    "        for h in range(4, height - 4):\n",
    "            subImg = image[h-4:h+5, w-4:w+5]\n",
    "            result[h-4, w-4] = dLBPPixel(subImg, angle)\n",
    "    return result"
   ]
  },
  {
   "cell_type": "code",
   "execution_count": null,
   "metadata": {},
   "outputs": [],
   "source": [
    "img = cv2.imread('images/test2.png', 0)\n",
    "img = cv2.equalizeHist(img)\n",
    "for _ in range(1):\n",
    "    img = cv2.bilateralFilter(img, 5, 30, 20)\n",
    "img = cropFace(img)\n",
    "first, second = TLP(img, 1)\n",
    "plt.imshow(first, cmap='gray', vmin=0, vmax=255)\n",
    "plt.show()\n",
    "plt.imshow(second, cmap='gray', vmin=0, vmax=255)\n",
    "plt.show()\n",
    "\n",
    "# dlbp = dLBP(img,0)\n",
    "# plt.imshow(dlbp, cmap='gray', vmin=0, vmax=255)\n",
    "# plt.show()\n",
    "# dlbp = dLBP(img,45)\n",
    "# plt.imshow(dlbp, cmap='gray', vmin=0, vmax=255)\n",
    "# plt.show()\n",
    "# dlbp = dLBP(img,90)\n",
    "# plt.imshow(dlbp, cmap='gray', vmin=0, vmax=255)\n",
    "# plt.show()\n",
    "# dlbp = dLBP(img,135)\n",
    "# plt.imshow(dlbp, cmap='gray', vmin=0, vmax=255)\n",
    "# plt.show()\n"
   ]
  },
  {
   "cell_type": "code",
   "execution_count": null,
   "metadata": {},
   "outputs": [],
   "source": [
    "ckpfiles = glob('/home/jad/Téléchargements/CK+/cohn-kanade-images/*/*/*.*')\n",
    "ckpfiles.sort()\n",
    "ckpDF = pd.DataFrame(  columns=['subject', 'session', 'frame', 'emotion'])\n",
    "for filename in ckpfiles:\n",
    "    filepath = Path(filename)\n",
    "    subject, session, frame = filepath.stem.split('_')\n",
    "    emotionPath = filepath.parents[3]/'Emotion'/subject/session/(filepath.stem+'_emotion.txt')\n",
    "    emotion = None\n",
    "    if emotionPath.exists():\n",
    "        with open(str(emotionPath)) as emotionFile:\n",
    "            emotion = int(emotionFile.read()[3])\n",
    "    image = cv2.imread(filename, 0)\n",
    "    row = pd.DataFrame([[subject, session, frame, image, emotion]],\n",
    "                       columns=['subject', 'session', 'frame', 'image', 'emotion'])\n",
    "    ckpDF = ckpDF.append(row, sort=True, ignore_index=True)\n",
    "ckpDF\n"
   ]
  }
 ],
 "metadata": {
  "kernelspec": {
   "display_name": "Python 3",
   "language": "python",
   "name": "python3"
  },
  "language_info": {
   "codemirror_mode": {
    "name": "ipython",
    "version": 3
   },
   "file_extension": ".py",
   "mimetype": "text/x-python",
   "name": "python",
   "nbconvert_exporter": "python",
   "pygments_lexer": "ipython3",
   "version": "3.5.3"
  }
 },
 "nbformat": 4,
 "nbformat_minor": 2
}
