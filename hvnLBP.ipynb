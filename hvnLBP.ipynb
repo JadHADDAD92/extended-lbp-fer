{
 "cells": [
  {
   "cell_type": "code",
   "execution_count": 65,
   "metadata": {},
   "outputs": [
    {
     "name": "stdout",
     "output_type": "stream",
     "text": [
      "The line_profiler extension is already loaded. To reload it, use:\n",
      "  %reload_ext line_profiler\n"
     ]
    }
   ],
   "source": [
    "%matplotlib inline\n",
    "%load_ext line_profiler"
   ]
  },
  {
   "cell_type": "code",
   "execution_count": 66,
   "metadata": {},
   "outputs": [],
   "source": [
    "import sys\n",
    "import cv2\n",
    "import numpy as np\n",
    "import _pickle as cPickle\n",
    "import bz2\n",
    "from numba import jit\n",
    "from matplotlib import pyplot as plt\n",
    "from scipy.ndimage import convolve\n",
    "from skimage.feature import local_binary_pattern\n",
    "from skimage.transform import rescale\n",
    "from sklearn.model_selection import train_test_split\n",
    "from glob import glob\n",
    "from pathlib import Path\n",
    "from IPython.display import clear_output\n",
    "from sklearn.svm import SVC\n",
    "from sklearn.multiclass import OneVsRestClassifier"
   ]
  },
  {
   "cell_type": "code",
   "execution_count": 67,
   "metadata": {},
   "outputs": [],
   "source": [
    "from sklearn.model_selection import train_test_split\n",
    "from sklearn.multiclass import OneVsRestClassifier\n",
    "from sklearn.svm import SVC\n",
    "import _pickle as cPickle\n",
    "import bz2"
   ]
  },
  {
   "cell_type": "code",
   "execution_count": 68,
   "metadata": {},
   "outputs": [],
   "source": [
    "def parseJAFFEName(filename):\n",
    "    parts = filename.split('.')\n",
    "    name, emotion = parts[0], parts[1]\n",
    "    return name, emotion[:2]"
   ]
  },
  {
   "cell_type": "code",
   "execution_count": 69,
   "metadata": {},
   "outputs": [],
   "source": [
    "def save(filename, myobj):\n",
    "    \"\"\"\n",
    "    save object to file using pickle\n",
    "    \n",
    "    @param filename: name of destination file\n",
    "    @type filename: str\n",
    "    @param myobj: object to save (has to be pickleable)\n",
    "    @type myobj: obj\n",
    "    \"\"\"\n",
    "\n",
    "    try:\n",
    "        f = bz2.BZ2File(filename, 'wb')\n",
    "    except (IOError, details):\n",
    "        sys.stderr.write('File ' + filename + ' cannot be written\\n')\n",
    "        sys.stderr.write(details)\n",
    "        return\n",
    "\n",
    "    cPickle.dump(myobj, f)\n",
    "    f.close()\n",
    "\n",
    "\n",
    "\n",
    "def load(filename):\n",
    "    \"\"\"\n",
    "    Load from filename using pickle\n",
    "    \n",
    "    @param filename: name of file to load from\n",
    "    @type filename: str\n",
    "    \"\"\"\n",
    "\n",
    "    try:\n",
    "        f = bz2.BZ2File(filename, 'rb')\n",
    "    except (IOError, details):\n",
    "        sys.stderr.write('File ' + filename + ' cannot be read\\n')\n",
    "        sys.stderr.write(details)\n",
    "        return\n",
    "\n",
    "    myobj = cPickle.load(f)\n",
    "    f.close()\n",
    "    return myobj"
   ]
  },
  {
   "cell_type": "code",
   "execution_count": 70,
   "metadata": {},
   "outputs": [],
   "source": [
    "def cropFace(image):\n",
    "    faceClassifier = cv2.CascadeClassifier('./haarcascade/haarcascade_frontalface_alt.xml')\n",
    "    faces = faceClassifier.detectMultiScale(image)\n",
    "    #get first face coordinates\n",
    "    xFace, yFace, wFace, hFace = faces[0]\n",
    "    croppedFace = image[yFace:yFace+hFace, xFace:xFace+wFace]\n",
    "    return croppedFace"
   ]
  },
  {
   "cell_type": "code",
   "execution_count": 71,
   "metadata": {},
   "outputs": [],
   "source": [
    "def kirsch(image):\n",
    "    return {\n",
    "         \"N\" : cv2.filter2D(image, -1, np.array([[-3, -3, -3],\n",
    "                                                 [-3,  0, -3],\n",
    "                                                 [ 5,  5,  5]\n",
    "                                                ])),\n",
    "        \"NE\" : cv2.filter2D(image, -1, np.array([[-3, -3, -3],\n",
    "                                                 [ 5,  0, -3],\n",
    "                                                 [ 5,  5, -3]\n",
    "                                                ])),\n",
    "         \"E\" : cv2.filter2D(image, -1, np.array([[5, -3, -3],\n",
    "                                                 [5,  0, -3],\n",
    "                                                 [5, -3, -3]\n",
    "                                                ])),\n",
    "        \"SE\" : cv2.filter2D(image, -1, np.array([[ 5,  5, -3],\n",
    "                                                 [ 5,  0, -3],\n",
    "                                                 [-3, -3, -3]\n",
    "                                                ])),\n",
    "         \"S\" : cv2.filter2D(image, -1, np.array([[ 5,  5,  5],\n",
    "                                                 [-3,  0, -3],\n",
    "                                                 [-3, -3, -3]\n",
    "                                                ])),\n",
    "        \"SW\" : cv2.filter2D(image, -1, np.array([[-3,  5,  5],\n",
    "                                                 [-3,  0,  5],\n",
    "                                                 [-3, -3, -3]\n",
    "                                                ])),\n",
    "         \"W\" : cv2.filter2D(image, -1, np.array([[-3, -3, 5],\n",
    "                                                 [-3,  0, 5],\n",
    "                                                 [-3, -3, 5]\n",
    "                                                ])),\n",
    "        \"NW\" : cv2.filter2D(image, -1, np.array([[-3, -3, -3],\n",
    "                                                 [-3,  0,  5],\n",
    "                                                 [-3,  5,  5]\n",
    "                                                ]))\n",
    "    }"
   ]
  },
  {
   "cell_type": "code",
   "execution_count": 72,
   "metadata": {},
   "outputs": [],
   "source": [
    "@jit(nopython=True)\n",
    "def generatePattern(matrix):\n",
    "    return matrix[0, 0] + (matrix[0, 1]<<1) + (matrix[0, 2]<<2) + (matrix[1, 2]<<3) + \\\n",
    "           (matrix[2, 2]<<4) + (matrix[2, 1]<<5) + (matrix[2, 0]<<6) + (matrix[1, 0]<<7)"
   ]
  },
  {
   "cell_type": "code",
   "execution_count": null,
   "metadata": {},
   "outputs": [],
   "source": [
    "img =  cv2.imread('images/test.png', 0)\n",
    "# plt.imshow(img, cmap='gray', vmax=255, vmin=0)\n",
    "# plt.show()\n",
    "img = cv2.equalizeHist(img)\n",
    "img = cv2.bilateralFilter(img, 5, 30, 20)\n",
    "img = cropFace(img)\n",
    "# plt.imshow(img, cmap='gray', vmax=255, vmin=0)\n",
    "# plt.show()\n",
    "# result = np.zeros_like(img)\n",
    "for key, value in kirsch(img).items():\n",
    "#     result = np.maximum(result, value)\n",
    "    res = hvnLBPWithoutBorders(value)\n",
    "    plt.imshow(res, cmap='gray', vmax=255, vmin=0)\n",
    "    plt.show()\n",
    "# plt.imshow(result, cmap='gray', vmax=255, vmin=0)\n",
    "# plt.show()\n",
    "# lbp = hvnLBPWithoutBorders(result)\n",
    "# plt.imshow(lbp, cmap='gray', vmax=255, vmin=0)\n",
    "# plt.show()\n"
   ]
  },
  {
   "cell_type": "code",
   "execution_count": 74,
   "metadata": {},
   "outputs": [],
   "source": [
    "# %lprun -f hvnLBPWithoutBorders hvnLBPWithoutBorders(img)\n",
    "# @jit(nopython=True)\n",
    "def hvnLBPWithoutBorders(image):\n",
    "    height, width = image.shape\n",
    "    newImage = np.empty([height -2, width -2], dtype=np.uint8)\n",
    "#     newImage = np.empty((height -2)*(width -2), dtype=np.uint8).reshape((height -2), (width -2))\n",
    "    for i in range(1, height - 1):\n",
    "        for j in range(1, width - 1):\n",
    "            mat = image[i-1:i+2, j-1:j+2].copy()\n",
    "            mat[1, 1] = 0\n",
    "            #vertical LBP\n",
    "            vmat = mat == mat.max(axis=0).reshape(1, 3)\n",
    "            #horizontal LBP\n",
    "            hmat = mat == mat.max(axis=1).reshape(3, 1)\n",
    "            \n",
    "            hv = np.maximum(vmat, hmat)\n",
    "            newImage[i-1, j-1] = generatePattern(hv)\n",
    "    return newImage"
   ]
  },
  {
   "cell_type": "code",
   "execution_count": 18,
   "metadata": {},
   "outputs": [],
   "source": [
    "@jit(nopython=True)\n",
    "def LBPH(LBPImg, gridX, gridY):\n",
    "    cellWidth = LBPImg.shape[1] // gridX\n",
    "    cellHeight = LBPImg.shape[0] // gridY\n",
    "    \n",
    "    feature = np.array((), dtype=np.uint8)\n",
    "    for x in range(0, gridX*cellWidth, cellWidth):\n",
    "        for y in range(0, gridY*cellHeight, cellHeight):\n",
    "            # extract cell\n",
    "            subImg = LBPImg[y:y+cellHeight, x:x+cellWidth]\n",
    "            # construct histogram\n",
    "            hist, bin_edge = np.histogram(subImg.ravel(), bins=256)\n",
    "            # concatenate histograms\n",
    "            feature = np.concatenate((feature, hist.astype(np.uint8)))\n",
    "    return feature"
   ]
  },
  {
   "cell_type": "code",
   "execution_count": 19,
   "metadata": {},
   "outputs": [],
   "source": [
    "# %lprun -f extractFeature extractFeature( cv2.imread('images/test2.png', 0) )\n",
    "def extractFeature(image):\n",
    "    # preprocessing\n",
    "    image = cv2.equalizeHist(image)\n",
    "    image = cv2.bilateralFilter(image, 5, 30, 20)    \n",
    "    image = cropFace(image)\n",
    "    \n",
    "    # rescale to 77x77 ( compute on 75x75 without the borders )\n",
    "    image = rescale(image, 77.0/image.shape[0], anti_aliasing=True, multichannel=False)\n",
    "    filteredImages = kirsch(image)\n",
    "    features = np.array([], dtype=np.uint8)\n",
    "    for filteredImage in filteredImages.values():\n",
    "        hvn = hvnLBPWithoutBorders(filteredImage)\n",
    "        lb = LBPH(hvn, 25, 25)\n",
    "        features = np.concatenate((features, lb))\n",
    "    return features"
   ]
  },
  {
   "cell_type": "code",
   "execution_count": 30,
   "metadata": {},
   "outputs": [
    {
     "name": "stdout",
     "output_type": "stream",
     "text": [
      "213/213 TM.AN1.190.tiff AN\n"
     ]
    }
   ],
   "source": [
    "directoryPath = \"/home/jad/Téléchargements/jaffe\"\n",
    "imgsPaths = glob(directoryPath + '/*.tiff')\n",
    "\n",
    "features = []\n",
    "labels = []\n",
    "index = 1\n",
    "\n",
    "for imgPath in imgsPaths:\n",
    "    features.append(extractFeature(cv2.imread(imgPath, 0)))\n",
    "    filename = Path(imgPath).name\n",
    "    _personName, emotion = parseJAFFEName(filename)\n",
    "    labels.append(emotion)\n",
    "    clear_output(wait=True)\n",
    "    print(\"%d/%d\"%(index, len(imgsPaths)), filename, emotion)\n",
    "    index = index + 1\n",
    "features = np.array(features, dtype=np.uint8)"
   ]
  },
  {
   "cell_type": "code",
   "execution_count": 62,
   "metadata": {},
   "outputs": [],
   "source": [
    "directoryPath = \"/home/jad/Téléchargements/jaffe\"\n",
    "imgsPaths = glob(directoryPath + '/*.tiff')\n",
    "JAFFE = []\n",
    "for imgPath in imgsPaths:\n",
    "    filename = Path(imgPath).name\n",
    "    personName, emotion = parseJAFFEName(filename)\n",
    "    image = cv2.imread(imgPath, 0)\n",
    "    JAFFE.append([personName, emotion, image])\n",
    "save('JAFFE', JAFFE)"
   ]
  },
  {
   "cell_type": "code",
   "execution_count": null,
   "metadata": {},
   "outputs": [],
   "source": [
    "features = load('processed')\n",
    "labels = load('labels')"
   ]
  },
  {
   "cell_type": "code",
   "execution_count": 22,
   "metadata": {},
   "outputs": [
    {
     "name": "stdout",
     "output_type": "stream",
     "text": [
      "142 ['SU', 'SA', 'NE', 'FE', 'NE', 'HA', 'AN', 'SU', 'AN', 'HA', 'DI', 'DI', 'NE', 'SA', 'SA', 'AN', 'NE', 'DI', 'AN', 'NE', 'SA', 'SU', 'AN', 'AN', 'NE', 'SU', 'AN', 'SA', 'NE', 'DI', 'HA', 'NE', 'DI', 'SA', 'HA', 'SU', 'HA', 'NE', 'SU', 'SA', 'FE', 'FE', 'AN', 'SU', 'AN', 'SA', 'SA', 'DI', 'SU', 'HA', 'SA', 'AN', 'FE', 'SU', 'DI', 'NE', 'NE', 'SU', 'SU', 'SU', 'FE', 'SU', 'NE', 'NE', 'NE', 'SA', 'HA', 'AN', 'SA', 'SU', 'HA', 'HA', 'SU', 'SA', 'HA', 'HA', 'FE', 'SU', 'AN', 'SA', 'FE', 'HA', 'FE', 'SA', 'DI', 'DI', 'FE', 'NE', 'HA', 'SU', 'HA', 'NE', 'FE', 'AN', 'NE', 'SU', 'AN', 'AN', 'SU', 'HA', 'SA', 'SU', 'FE', 'AN', 'AN', 'FE', 'NE', 'DI', 'FE', 'HA', 'FE', 'HA', 'SA', 'FE', 'AN', 'SA', 'HA', 'NE', 'NE', 'HA', 'HA', 'AN', 'FE', 'DI', 'HA', 'DI', 'HA', 'DI', 'DI', 'DI', 'AN', 'SA', 'SU', 'DI', 'SA', 'SU', 'DI', 'DI', 'FE', 'NE', 'FE', 'NE']\n",
      "71 ['SA', 'HA', 'DI', 'SA', 'FE', 'DI', 'SU', 'FE', 'AN', 'FE', 'AN', 'SA', 'SA', 'FE', 'NE', 'NE', 'FE', 'FE', 'DI', 'DI', 'AN', 'HA', 'DI', 'NE', 'AN', 'DI', 'SA', 'AN', 'DI', 'NE', 'SU', 'SA', 'HA', 'SA', 'SA', 'DI', 'SU', 'DI', 'HA', 'SU', 'FE', 'HA', 'AN', 'HA', 'FE', 'FE', 'SU', 'SA', 'FE', 'FE', 'NE', 'AN', 'HA', 'NE', 'AN', 'SU', 'NE', 'AN', 'SA', 'AN', 'HA', 'SA', 'HA', 'SU', 'FE', 'FE', 'FE', 'DI', 'DI', 'SU', 'NE']\n"
     ]
    }
   ],
   "source": [
    "xtrain, xtest, ytrain, ytest = train_test_split(features, labels, test_size=0.33)\n",
    "print(len(xtrain), ytrain)\n",
    "print(len(xtest), ytest)"
   ]
  },
  {
   "cell_type": "code",
   "execution_count": 23,
   "metadata": {},
   "outputs": [
    {
     "data": {
      "text/plain": [
       "OneVsRestClassifier(estimator=SVC(C=0.002, cache_size=200, class_weight=None, coef0=0.0,\n",
       "  decision_function_shape='ovr', degree=3, gamma=1e-07, kernel='rbf',\n",
       "  max_iter=-1, probability=False, random_state=0, shrinking=True,\n",
       "  tol=0.001, verbose=False),\n",
       "          n_jobs=None)"
      ]
     },
     "execution_count": 23,
     "metadata": {},
     "output_type": "execute_result"
    }
   ],
   "source": [
    "# create and train our classifier\n",
    "svc = OneVsRestClassifier(SVC(random_state=0, decision_function_shape='ovr', C=0.002, kernel='rbf',  gamma=0.0000001))\n",
    "svc.fit(xtrain, ytrain)"
   ]
  },
  {
   "cell_type": "markdown",
   "metadata": {},
   "source": [
    "xtrain, xtest, ytrain, ytest = train_test_split(features, labels, test_size=0.33)\n",
    "svc = OneVsRestClassifier(SVC(random_state=0, decision_function_shape='ovr', C=0.002, kernel='rbf',  gamma=0.0000001))\n",
    "51/71 71.83098591549296"
   ]
  },
  {
   "cell_type": "code",
   "execution_count": 24,
   "metadata": {},
   "outputs": [
    {
     "name": "stdout",
     "output_type": "stream",
     "text": [
      "NE SA False\n",
      "HA HA True\n",
      "DI DI True\n",
      "FE SA False\n",
      "FE FE True\n",
      "DI DI True\n",
      "SU SU True\n",
      "DI FE False\n",
      "AN AN True\n",
      "FE FE True\n",
      "SA AN False\n",
      "AN SA False\n",
      "DI SA False\n",
      "SU FE False\n",
      "NE NE True\n",
      "FE NE False\n",
      "SA FE False\n",
      "FE FE True\n",
      "DI DI True\n",
      "DI DI True\n",
      "DI AN False\n",
      "HA HA True\n",
      "DI DI True\n",
      "NE NE True\n",
      "DI AN False\n",
      "DI DI True\n",
      "HA SA False\n",
      "AN AN True\n",
      "DI DI True\n",
      "NE NE True\n",
      "SU SU True\n",
      "SA SA True\n",
      "HA HA True\n",
      "SA SA True\n",
      "SU SA False\n",
      "DI DI True\n",
      "SU SU True\n",
      "DI DI True\n",
      "HA HA True\n",
      "SU SU True\n",
      "FE FE True\n",
      "HA HA True\n",
      "AN AN True\n",
      "HA HA True\n",
      "SA FE False\n",
      "FE FE True\n",
      "SU SU True\n",
      "FE SA False\n",
      "FE FE True\n",
      "DI FE False\n",
      "NE NE True\n",
      "NE AN False\n",
      "HA HA True\n",
      "NE NE True\n",
      "AN AN True\n",
      "SU SU True\n",
      "NE NE True\n",
      "AN AN True\n",
      "FE SA False\n",
      "NE AN False\n",
      "HA HA True\n",
      "SA SA True\n",
      "HA HA True\n",
      "SU SU True\n",
      "DI FE False\n",
      "FE FE True\n",
      "DI FE False\n",
      "DI DI True\n",
      "AN DI False\n",
      "SU SU True\n",
      "NE NE True\n",
      "49 71 69.01408450704226\n"
     ]
    }
   ],
   "source": [
    "totalnum = len(xtest)\n",
    "correct = 0\n",
    "for i in range(totalnum):\n",
    "    prediction = svc.predict(xtest[i].reshape(1, -1))\n",
    "    print(prediction[0], ytest[i], prediction[0] == ytest[i])\n",
    "    if prediction[0] == ytest[i]:\n",
    "        correct +=1\n",
    "print(correct, totalnum, correct*100/totalnum)"
   ]
  },
  {
   "cell_type": "code",
   "execution_count": 13,
   "metadata": {},
   "outputs": [
    {
     "name": "stdout",
     "output_type": "stream",
     "text": [
      "51/71 71.83098591549296\n"
     ]
    }
   ],
   "source": [
    "print(\"%d/%d\"%(correct, totalnum), correct*100/totalnum)"
   ]
  },
  {
   "cell_type": "code",
   "execution_count": 22,
   "metadata": {},
   "outputs": [
    {
     "name": "stdout",
     "output_type": "stream",
     "text": [
      "(75, 75)\n"
     ]
    },
    {
     "data": {
      "image/png": "[encoded data removed]",
      "text/plain": [
       "<Figure size 432x288 with 1 Axes>"
      ]
     },
     "metadata": {},
     "output_type": "display_data"
    },
    {
     "data": {
      "image/png": "[encoded data removed]",
      "text/plain": [
       "<Figure size 432x288 with 1 Axes>"
      ]
     },
     "metadata": {},
     "output_type": "display_data"
    },
    {
     "data": {
      "image/png": "[encoded data removed]",
      "text/plain": [
       "<Figure size 432x288 with 1 Axes>"
      ]
     },
     "metadata": {},
     "output_type": "display_data"
    }
   ],
   "source": [
    "img = cv2.imread('images/test2.png', 0) # load image as grayscale\n",
    "\n",
    "# preprocessing\n",
    "img = cv2.equalizeHist(img)\n",
    "img = cv2.bilateralFilter(img, 20, 25, 25)\n",
    "\n",
    "img = cropFace(img) # extract face\n",
    "img = rescale(img, 75.0/img.shape[0], anti_aliasing=False, mode='constant', multichannel=False) # rescale to 75x75\n",
    "print(img.shape)\n",
    "\n",
    "plt.imshow(img, cmap='gray')\n",
    "plt.setp(plt.title('Original preprocessed'), color='w')\n",
    "plt.xticks([]), plt.yticks([])\n",
    "plt.show()\n",
    "\n",
    "lbp = local_binary_pattern(img, 8, 1, 'default')\n",
    "plt.imshow(lbp, cmap='gray', vmin=0, vmax=255)\n",
    "plt.setp(plt.title('LBP'), color='w')\n",
    "plt.xticks([]), plt.yticks([])\n",
    "plt.show()\n",
    "\n",
    "res = hvnLBPWithoutBorders(img)\n",
    "\n",
    "plt.imshow(res, cmap='gray', vmin=0, vmax=255)\n",
    "plt.setp(plt.title('hvnLBP'), color='w')\n",
    "plt.xticks([]), plt.yticks([])\n",
    "plt.show()"
   ]
  },
  {
   "cell_type": "code",
   "execution_count": null,
   "metadata": {},
   "outputs": [],
   "source": []
  },
  {
   "cell_type": "code",
   "execution_count": null,
   "metadata": {},
   "outputs": [],
   "source": [
    "res[res==41]"
   ]
  }
 ],
 "metadata": {
  "kernelspec": {
   "display_name": "Python 3",
   "language": "python",
   "name": "python3"
  },
  "language_info": {
   "codemirror_mode": {
    "name": "ipython",
    "version": 3
   },
   "file_extension": ".py",
   "mimetype": "text/x-python",
   "name": "python",
   "nbconvert_exporter": "python",
   "pygments_lexer": "ipython3",
   "version": "3.5.3"
  }
 },
 "nbformat": 4,
 "nbformat_minor": 2
}
