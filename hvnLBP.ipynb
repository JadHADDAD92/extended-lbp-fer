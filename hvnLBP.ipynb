{
 "cells": [
  {
   "cell_type": "code",
   "execution_count": 2,
   "metadata": {},
   "outputs": [],
   "source": [
    "%matplotlib inline"
   ]
  },
  {
   "cell_type": "code",
   "execution_count": 3,
   "metadata": {},
   "outputs": [],
   "source": [
    "import cv2\n",
    "import numpy as np\n",
    "from matplotlib import pyplot as plt\n",
    "from scipy.ndimage import convolve"
   ]
  },
  {
   "cell_type": "code",
   "execution_count": 11,
   "metadata": {},
   "outputs": [],
   "source": [
    "def cropFace(image):\n",
    "    faceClassifier = cv2.CascadeClassifier('./haarcascade/haarcascade_frontalface_alt.xml')\n",
    "    faces = faceClassifier.detectMultiScale(image)\n",
    "    #get first face coordinates\n",
    "    xFace, yFace, wFace, hFace = faces[0]\n",
    "    croppedFace = image[yFace:yFace+hFace, xFace:xFace+wFace]\n",
    "    return croppedFace"
   ]
  },
  {
   "cell_type": "code",
   "execution_count": 12,
   "metadata": {},
   "outputs": [],
   "source": [
    "img = cv2.imread('sur.png', 0)\n",
    "img = cropFace(img)\n",
    "S = np.matrix([[ 5,  5,  5],\n",
    "               [-3,  0, -3],\n",
    "               [-3, -3, -3]\n",
    "              ])\n",
    "SE = np.matrix([[ 5,  5, -3],\n",
    "                [ 5,  0, -3],\n",
    "                [-3, -3, -3]\n",
    "               ])\n",
    "E = np.matrix([[5, -3, -3],\n",
    "               [5,  0, -3],\n",
    "               [5, -3, -3]\n",
    "              ])\n",
    "NE = np.matrix([[-3, -3, -3],\n",
    "                [ 5,  0, -3],\n",
    "                [ 5,  5, -3]\n",
    "               ])\n",
    "N = np.matrix([[-3, -3, -3],\n",
    "               [-3,  0, -3],\n",
    "               [ 5,  5,  5]\n",
    "              ])\n",
    "NW = np.matrix([[-3, -3, -3],\n",
    "                [-3,  0,  5],\n",
    "                [-3,  5,  5]\n",
    "               ])\n",
    "W = np.matrix([[-3, -3, 5],\n",
    "               [-3,  0, 5],\n",
    "               [-3, -3, 5]\n",
    "              ])\n",
    "SW = np.matrix([[-3,  5,  5],\n",
    "                [-3,  0,  5],\n",
    "                [-3, -3, -3]\n",
    "               ])\n",
    "\n",
    "res1 = convolve(img, N)\n",
    "res2 = convolve(img, NE)\n",
    "res3 = convolve(img, E)\n",
    "res4 = convolve(img, SE)\n",
    "res5 = convolve(img, S)\n",
    "res6 = convolve(img, SW)\n",
    "res7 = convolve(img, W)\n",
    "res8 = convolve(img, NW)\n",
    "\n",
    "# plt.imshow(res1, cmap='gray')\n",
    "# plt.show()\n",
    "# plt.imshow(res2, cmap='gray')\n",
    "# plt.show()\n",
    "# plt.imshow(res3, cmap='gray')\n",
    "# plt.show()\n",
    "# plt.imshow(res4, cmap='gray')\n",
    "# plt.show()\n",
    "# plt.imshow(res5, cmap='gray')\n",
    "# plt.show()\n",
    "# plt.imshow(res6, cmap='gray')\n",
    "# plt.show()\n",
    "# plt.imshow(res7, cmap='gray')\n",
    "# plt.show()\n",
    "# plt.imshow(res8, cmap='gray')\n"
   ]
  },
  {
   "cell_type": "code",
   "execution_count": 73,
   "metadata": {},
   "outputs": [
    {
     "data": {
      "text/plain": [
       "array([ 62,  56,  48,  44,  52,  59,  56,  46,  39,  34,  50,  53,  74,\n",
       "        86,  78,  78,  79,  71,  67,  65,  66,  61,  70,  66,  65,  71,\n",
       "        75,  82,  89,  93,  95, 101, 104, 114, 115,  90,  76,  87, 100,\n",
       "       105, 108, 115, 117, 116,  96, 100, 112, 128, 126, 120, 125, 134,\n",
       "       105, 114, 122, 133, 155, 163, 167, 167, 170, 169, 169, 173, 171,\n",
       "       168, 158, 158, 157, 133, 139, 141, 126, 129, 149, 164, 168, 174,\n",
       "       165, 164, 163, 139, 132, 135, 142, 144, 139, 129, 137, 149, 146,\n",
       "       148, 146, 117,  91,  92, 104, 119, 143, 144, 141, 136, 133, 114,\n",
       "        92,  92,  85,  74,  67,  73,  67,  66,  59,  66,  73,  85,  75,\n",
       "       121,  86,  78,  69,  76,  63,  59,  64,  65,  70,  74,  77,  72,\n",
       "        80,  82,  73,  81,  72,  74,  69,  65,  59,  63,  60,  78,  66,\n",
       "        80,  82,  76,  89,  98, 101, 114, 151, 176, 166, 179], dtype=uint8)"
      ]
     },
     "execution_count": 73,
     "metadata": {},
     "output_type": "execute_result"
    }
   ],
   "source": [
    "\n"
   ]
  },
  {
   "cell_type": "code",
   "execution_count": 83,
   "metadata": {},
   "outputs": [
    {
     "name": "stdout",
     "output_type": "stream",
     "text": [
      "[[ 0  0  0]\n",
      " [ 0 -1 59]\n",
      " [ 0 52 46]]\n",
      "0\n",
      "0\n",
      "0\n",
      "0\n",
      "-1\n",
      "59\n",
      "0\n",
      "52\n",
      "46\n",
      "[[0 0 0]\n",
      " [0 0 1]\n",
      " [0 1 0]]\n"
     ]
    }
   ],
   "source": [
    "# print(img)\n",
    "def hvnLBP(image):\n",
    "    def hLBP(matrix):\n",
    "        mat = matrix.copy()\n",
    "        print(mat)\n",
    "        for i in range(mat.shape[1]):\n",
    "            maxNum = np.amax(mat[i, :])\n",
    "            for j in range(mat.shape[0]):\n",
    "                print(mat[i, j])\n",
    "                mat[i, j] = 1 if mat[i, j] == maxNum and maxNum != 0 else 0\n",
    "        return mat\n",
    "            \n",
    "        \n",
    "    def vLBP(matrix):\n",
    "        pass\n",
    "    height, width = image.shape\n",
    "    for i in range(height):\n",
    "        for j in range(width):\n",
    "            if i == 0: # top border\n",
    "                if j == 0: # top left corner\n",
    "                    row1 = np.array([0, 0, 0])\n",
    "                    row2 = np.array([0, -1, img[i][j+1]])\n",
    "                    row3 = np.hstack((np.array([0]), img[i+1][j:j+2]))\n",
    "                    mat = np.matrix([row1, row2, row3])\n",
    "                    hLBP(mat)\n",
    "                    break\n",
    "                elif j == width -1: # top right corner\n",
    "                    pass\n",
    "                else:\n",
    "                    pass\n",
    "            elif i == height -1: # bottom border\n",
    "                if j == 0: # bottom left corner\n",
    "                    pass\n",
    "                elif j == width -1: # bottom right corner\n",
    "                    pass\n",
    "                else:\n",
    "                    pass\n",
    "            else:\n",
    "                if j == 0: # left border\n",
    "                    pass\n",
    "                elif j == width -1: # right border\n",
    "                    pass\n",
    "                else:\n",
    "                    pass\n",
    "            \n",
    "            row1=img[i-1][j-1:j+2]\n",
    "            row2=img[i][j-1:j+2]\n",
    "            row3=img[i+1][j-1:j+2]\n",
    "            print(row1)\n",
    "            print(row2)\n",
    "            print(row3)\n",
    "            matrix = np.matrix([row1, row2, row3])\n",
    "            print(\"img[%d,%d] =\"%(i, j), img[i][j], matrix)\n",
    "        break\n",
    "            \n",
    "hvnLBP(img)"
   ]
  }
 ],
 "metadata": {
  "kernelspec": {
   "display_name": "Python 3",
   "language": "python",
   "name": "python3"
  },
  "language_info": {
   "codemirror_mode": {
    "name": "ipython",
    "version": 3
   },
   "file_extension": ".py",
   "mimetype": "text/x-python",
   "name": "python",
   "nbconvert_exporter": "python",
   "pygments_lexer": "ipython3",
   "version": "3.5.3"
  }
 },
 "nbformat": 4,
 "nbformat_minor": 2
}
